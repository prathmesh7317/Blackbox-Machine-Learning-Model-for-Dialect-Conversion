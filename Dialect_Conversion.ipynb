{
  "nbformat": 4,
  "nbformat_minor": 0,
  "metadata": {
    "colab": {
      "provenance": [],
      "gpuType": "T4"
    },
    "kernelspec": {
      "name": "python3",
      "display_name": "Python 3"
    },
    "language_info": {
      "name": "python"
    },
    "accelerator": "GPU",
    "widgets": {
      "application/vnd.jupyter.widget-state+json": {
        "a4415fd8d83a47beb37663ef809e33d1": {
          "model_module": "@jupyter-widgets/controls",
          "model_name": "HBoxModel",
          "model_module_version": "1.5.0",
          "state": {
            "_dom_classes": [],
            "_model_module": "@jupyter-widgets/controls",
            "_model_module_version": "1.5.0",
            "_model_name": "HBoxModel",
            "_view_count": null,
            "_view_module": "@jupyter-widgets/controls",
            "_view_module_version": "1.5.0",
            "_view_name": "HBoxView",
            "box_style": "",
            "children": [
              "IPY_MODEL_1c57bc47650c4e66823b4d6316d1252c",
              "IPY_MODEL_27a8dd1d985948f49890d247f841a010",
              "IPY_MODEL_c854ec65fca542ac93c3f7da80c0ce95"
            ],
            "layout": "IPY_MODEL_e4e41b103c5c4c299170d06847a1f0e9"
          }
        },
        "1c57bc47650c4e66823b4d6316d1252c": {
          "model_module": "@jupyter-widgets/controls",
          "model_name": "HTMLModel",
          "model_module_version": "1.5.0",
          "state": {
            "_dom_classes": [],
            "_model_module": "@jupyter-widgets/controls",
            "_model_module_version": "1.5.0",
            "_model_name": "HTMLModel",
            "_view_count": null,
            "_view_module": "@jupyter-widgets/controls",
            "_view_module_version": "1.5.0",
            "_view_name": "HTMLView",
            "description": "",
            "description_tooltip": null,
            "layout": "IPY_MODEL_e99f4209e5d04b38a80029ebfbd5c3c9",
            "placeholder": "​",
            "style": "IPY_MODEL_ddbc6224fadb4adbb2483f339190347e",
            "value": "Map: 100%"
          }
        },
        "27a8dd1d985948f49890d247f841a010": {
          "model_module": "@jupyter-widgets/controls",
          "model_name": "FloatProgressModel",
          "model_module_version": "1.5.0",
          "state": {
            "_dom_classes": [],
            "_model_module": "@jupyter-widgets/controls",
            "_model_module_version": "1.5.0",
            "_model_name": "FloatProgressModel",
            "_view_count": null,
            "_view_module": "@jupyter-widgets/controls",
            "_view_module_version": "1.5.0",
            "_view_name": "ProgressView",
            "bar_style": "success",
            "description": "",
            "description_tooltip": null,
            "layout": "IPY_MODEL_25c75d27235545e394d87b5cbf57f22c",
            "max": 76,
            "min": 0,
            "orientation": "horizontal",
            "style": "IPY_MODEL_98983cf2371d4600a67c1ba1f22f2b70",
            "value": 76
          }
        },
        "c854ec65fca542ac93c3f7da80c0ce95": {
          "model_module": "@jupyter-widgets/controls",
          "model_name": "HTMLModel",
          "model_module_version": "1.5.0",
          "state": {
            "_dom_classes": [],
            "_model_module": "@jupyter-widgets/controls",
            "_model_module_version": "1.5.0",
            "_model_name": "HTMLModel",
            "_view_count": null,
            "_view_module": "@jupyter-widgets/controls",
            "_view_module_version": "1.5.0",
            "_view_name": "HTMLView",
            "description": "",
            "description_tooltip": null,
            "layout": "IPY_MODEL_e99828d57ed845199a059cf3dbd83c69",
            "placeholder": "​",
            "style": "IPY_MODEL_bdf96d79524b4d64ad8b8c4404944bd8",
            "value": " 76/76 [00:00&lt;00:00, 1321.13 examples/s]"
          }
        },
        "e4e41b103c5c4c299170d06847a1f0e9": {
          "model_module": "@jupyter-widgets/base",
          "model_name": "LayoutModel",
          "model_module_version": "1.2.0",
          "state": {
            "_model_module": "@jupyter-widgets/base",
            "_model_module_version": "1.2.0",
            "_model_name": "LayoutModel",
            "_view_count": null,
            "_view_module": "@jupyter-widgets/base",
            "_view_module_version": "1.2.0",
            "_view_name": "LayoutView",
            "align_content": null,
            "align_items": null,
            "align_self": null,
            "border": null,
            "bottom": null,
            "display": null,
            "flex": null,
            "flex_flow": null,
            "grid_area": null,
            "grid_auto_columns": null,
            "grid_auto_flow": null,
            "grid_auto_rows": null,
            "grid_column": null,
            "grid_gap": null,
            "grid_row": null,
            "grid_template_areas": null,
            "grid_template_columns": null,
            "grid_template_rows": null,
            "height": null,
            "justify_content": null,
            "justify_items": null,
            "left": null,
            "margin": null,
            "max_height": null,
            "max_width": null,
            "min_height": null,
            "min_width": null,
            "object_fit": null,
            "object_position": null,
            "order": null,
            "overflow": null,
            "overflow_x": null,
            "overflow_y": null,
            "padding": null,
            "right": null,
            "top": null,
            "visibility": null,
            "width": null
          }
        },
        "e99f4209e5d04b38a80029ebfbd5c3c9": {
          "model_module": "@jupyter-widgets/base",
          "model_name": "LayoutModel",
          "model_module_version": "1.2.0",
          "state": {
            "_model_module": "@jupyter-widgets/base",
            "_model_module_version": "1.2.0",
            "_model_name": "LayoutModel",
            "_view_count": null,
            "_view_module": "@jupyter-widgets/base",
            "_view_module_version": "1.2.0",
            "_view_name": "LayoutView",
            "align_content": null,
            "align_items": null,
            "align_self": null,
            "border": null,
            "bottom": null,
            "display": null,
            "flex": null,
            "flex_flow": null,
            "grid_area": null,
            "grid_auto_columns": null,
            "grid_auto_flow": null,
            "grid_auto_rows": null,
            "grid_column": null,
            "grid_gap": null,
            "grid_row": null,
            "grid_template_areas": null,
            "grid_template_columns": null,
            "grid_template_rows": null,
            "height": null,
            "justify_content": null,
            "justify_items": null,
            "left": null,
            "margin": null,
            "max_height": null,
            "max_width": null,
            "min_height": null,
            "min_width": null,
            "object_fit": null,
            "object_position": null,
            "order": null,
            "overflow": null,
            "overflow_x": null,
            "overflow_y": null,
            "padding": null,
            "right": null,
            "top": null,
            "visibility": null,
            "width": null
          }
        },
        "ddbc6224fadb4adbb2483f339190347e": {
          "model_module": "@jupyter-widgets/controls",
          "model_name": "DescriptionStyleModel",
          "model_module_version": "1.5.0",
          "state": {
            "_model_module": "@jupyter-widgets/controls",
            "_model_module_version": "1.5.0",
            "_model_name": "DescriptionStyleModel",
            "_view_count": null,
            "_view_module": "@jupyter-widgets/base",
            "_view_module_version": "1.2.0",
            "_view_name": "StyleView",
            "description_width": ""
          }
        },
        "25c75d27235545e394d87b5cbf57f22c": {
          "model_module": "@jupyter-widgets/base",
          "model_name": "LayoutModel",
          "model_module_version": "1.2.0",
          "state": {
            "_model_module": "@jupyter-widgets/base",
            "_model_module_version": "1.2.0",
            "_model_name": "LayoutModel",
            "_view_count": null,
            "_view_module": "@jupyter-widgets/base",
            "_view_module_version": "1.2.0",
            "_view_name": "LayoutView",
            "align_content": null,
            "align_items": null,
            "align_self": null,
            "border": null,
            "bottom": null,
            "display": null,
            "flex": null,
            "flex_flow": null,
            "grid_area": null,
            "grid_auto_columns": null,
            "grid_auto_flow": null,
            "grid_auto_rows": null,
            "grid_column": null,
            "grid_gap": null,
            "grid_row": null,
            "grid_template_areas": null,
            "grid_template_columns": null,
            "grid_template_rows": null,
            "height": null,
            "justify_content": null,
            "justify_items": null,
            "left": null,
            "margin": null,
            "max_height": null,
            "max_width": null,
            "min_height": null,
            "min_width": null,
            "object_fit": null,
            "object_position": null,
            "order": null,
            "overflow": null,
            "overflow_x": null,
            "overflow_y": null,
            "padding": null,
            "right": null,
            "top": null,
            "visibility": null,
            "width": null
          }
        },
        "98983cf2371d4600a67c1ba1f22f2b70": {
          "model_module": "@jupyter-widgets/controls",
          "model_name": "ProgressStyleModel",
          "model_module_version": "1.5.0",
          "state": {
            "_model_module": "@jupyter-widgets/controls",
            "_model_module_version": "1.5.0",
            "_model_name": "ProgressStyleModel",
            "_view_count": null,
            "_view_module": "@jupyter-widgets/base",
            "_view_module_version": "1.2.0",
            "_view_name": "StyleView",
            "bar_color": null,
            "description_width": ""
          }
        },
        "e99828d57ed845199a059cf3dbd83c69": {
          "model_module": "@jupyter-widgets/base",
          "model_name": "LayoutModel",
          "model_module_version": "1.2.0",
          "state": {
            "_model_module": "@jupyter-widgets/base",
            "_model_module_version": "1.2.0",
            "_model_name": "LayoutModel",
            "_view_count": null,
            "_view_module": "@jupyter-widgets/base",
            "_view_module_version": "1.2.0",
            "_view_name": "LayoutView",
            "align_content": null,
            "align_items": null,
            "align_self": null,
            "border": null,
            "bottom": null,
            "display": null,
            "flex": null,
            "flex_flow": null,
            "grid_area": null,
            "grid_auto_columns": null,
            "grid_auto_flow": null,
            "grid_auto_rows": null,
            "grid_column": null,
            "grid_gap": null,
            "grid_row": null,
            "grid_template_areas": null,
            "grid_template_columns": null,
            "grid_template_rows": null,
            "height": null,
            "justify_content": null,
            "justify_items": null,
            "left": null,
            "margin": null,
            "max_height": null,
            "max_width": null,
            "min_height": null,
            "min_width": null,
            "object_fit": null,
            "object_position": null,
            "order": null,
            "overflow": null,
            "overflow_x": null,
            "overflow_y": null,
            "padding": null,
            "right": null,
            "top": null,
            "visibility": null,
            "width": null
          }
        },
        "bdf96d79524b4d64ad8b8c4404944bd8": {
          "model_module": "@jupyter-widgets/controls",
          "model_name": "DescriptionStyleModel",
          "model_module_version": "1.5.0",
          "state": {
            "_model_module": "@jupyter-widgets/controls",
            "_model_module_version": "1.5.0",
            "_model_name": "DescriptionStyleModel",
            "_view_count": null,
            "_view_module": "@jupyter-widgets/base",
            "_view_module_version": "1.2.0",
            "_view_name": "StyleView",
            "description_width": ""
          }
        },
        "5afeaa4a7b89436fb2beca90792d64e5": {
          "model_module": "@jupyter-widgets/controls",
          "model_name": "HBoxModel",
          "model_module_version": "1.5.0",
          "state": {
            "_dom_classes": [],
            "_model_module": "@jupyter-widgets/controls",
            "_model_module_version": "1.5.0",
            "_model_name": "HBoxModel",
            "_view_count": null,
            "_view_module": "@jupyter-widgets/controls",
            "_view_module_version": "1.5.0",
            "_view_name": "HBoxView",
            "box_style": "",
            "children": [
              "IPY_MODEL_90da4a1e75b94c4586158850d990eea7",
              "IPY_MODEL_6d0a90a608934632bafec51b79a42ac4",
              "IPY_MODEL_1373fa8728be4dc3891e9f85d8554220"
            ],
            "layout": "IPY_MODEL_3d80e4c7008e44adb54fd92a36b576ca"
          }
        },
        "90da4a1e75b94c4586158850d990eea7": {
          "model_module": "@jupyter-widgets/controls",
          "model_name": "HTMLModel",
          "model_module_version": "1.5.0",
          "state": {
            "_dom_classes": [],
            "_model_module": "@jupyter-widgets/controls",
            "_model_module_version": "1.5.0",
            "_model_name": "HTMLModel",
            "_view_count": null,
            "_view_module": "@jupyter-widgets/controls",
            "_view_module_version": "1.5.0",
            "_view_name": "HTMLView",
            "description": "",
            "description_tooltip": null,
            "layout": "IPY_MODEL_caf0e1d1326c4e95a463e8575c547c3e",
            "placeholder": "​",
            "style": "IPY_MODEL_758cb3056daa422e91e6ec30b1fb45b0",
            "value": "Map: 100%"
          }
        },
        "6d0a90a608934632bafec51b79a42ac4": {
          "model_module": "@jupyter-widgets/controls",
          "model_name": "FloatProgressModel",
          "model_module_version": "1.5.0",
          "state": {
            "_dom_classes": [],
            "_model_module": "@jupyter-widgets/controls",
            "_model_module_version": "1.5.0",
            "_model_name": "FloatProgressModel",
            "_view_count": null,
            "_view_module": "@jupyter-widgets/controls",
            "_view_module_version": "1.5.0",
            "_view_name": "ProgressView",
            "bar_style": "success",
            "description": "",
            "description_tooltip": null,
            "layout": "IPY_MODEL_d7844eb72f29486cab34d2a1a900a4e9",
            "max": 20,
            "min": 0,
            "orientation": "horizontal",
            "style": "IPY_MODEL_53746952cb1044ebb31e108873fad7e1",
            "value": 20
          }
        },
        "1373fa8728be4dc3891e9f85d8554220": {
          "model_module": "@jupyter-widgets/controls",
          "model_name": "HTMLModel",
          "model_module_version": "1.5.0",
          "state": {
            "_dom_classes": [],
            "_model_module": "@jupyter-widgets/controls",
            "_model_module_version": "1.5.0",
            "_model_name": "HTMLModel",
            "_view_count": null,
            "_view_module": "@jupyter-widgets/controls",
            "_view_module_version": "1.5.0",
            "_view_name": "HTMLView",
            "description": "",
            "description_tooltip": null,
            "layout": "IPY_MODEL_ef70c8773d354c0d82a3798155f54870",
            "placeholder": "​",
            "style": "IPY_MODEL_3cbff01ecc094194937d8c291a3112ae",
            "value": " 20/20 [00:00&lt;00:00, 514.50 examples/s]"
          }
        },
        "3d80e4c7008e44adb54fd92a36b576ca": {
          "model_module": "@jupyter-widgets/base",
          "model_name": "LayoutModel",
          "model_module_version": "1.2.0",
          "state": {
            "_model_module": "@jupyter-widgets/base",
            "_model_module_version": "1.2.0",
            "_model_name": "LayoutModel",
            "_view_count": null,
            "_view_module": "@jupyter-widgets/base",
            "_view_module_version": "1.2.0",
            "_view_name": "LayoutView",
            "align_content": null,
            "align_items": null,
            "align_self": null,
            "border": null,
            "bottom": null,
            "display": null,
            "flex": null,
            "flex_flow": null,
            "grid_area": null,
            "grid_auto_columns": null,
            "grid_auto_flow": null,
            "grid_auto_rows": null,
            "grid_column": null,
            "grid_gap": null,
            "grid_row": null,
            "grid_template_areas": null,
            "grid_template_columns": null,
            "grid_template_rows": null,
            "height": null,
            "justify_content": null,
            "justify_items": null,
            "left": null,
            "margin": null,
            "max_height": null,
            "max_width": null,
            "min_height": null,
            "min_width": null,
            "object_fit": null,
            "object_position": null,
            "order": null,
            "overflow": null,
            "overflow_x": null,
            "overflow_y": null,
            "padding": null,
            "right": null,
            "top": null,
            "visibility": null,
            "width": null
          }
        },
        "caf0e1d1326c4e95a463e8575c547c3e": {
          "model_module": "@jupyter-widgets/base",
          "model_name": "LayoutModel",
          "model_module_version": "1.2.0",
          "state": {
            "_model_module": "@jupyter-widgets/base",
            "_model_module_version": "1.2.0",
            "_model_name": "LayoutModel",
            "_view_count": null,
            "_view_module": "@jupyter-widgets/base",
            "_view_module_version": "1.2.0",
            "_view_name": "LayoutView",
            "align_content": null,
            "align_items": null,
            "align_self": null,
            "border": null,
            "bottom": null,
            "display": null,
            "flex": null,
            "flex_flow": null,
            "grid_area": null,
            "grid_auto_columns": null,
            "grid_auto_flow": null,
            "grid_auto_rows": null,
            "grid_column": null,
            "grid_gap": null,
            "grid_row": null,
            "grid_template_areas": null,
            "grid_template_columns": null,
            "grid_template_rows": null,
            "height": null,
            "justify_content": null,
            "justify_items": null,
            "left": null,
            "margin": null,
            "max_height": null,
            "max_width": null,
            "min_height": null,
            "min_width": null,
            "object_fit": null,
            "object_position": null,
            "order": null,
            "overflow": null,
            "overflow_x": null,
            "overflow_y": null,
            "padding": null,
            "right": null,
            "top": null,
            "visibility": null,
            "width": null
          }
        },
        "758cb3056daa422e91e6ec30b1fb45b0": {
          "model_module": "@jupyter-widgets/controls",
          "model_name": "DescriptionStyleModel",
          "model_module_version": "1.5.0",
          "state": {
            "_model_module": "@jupyter-widgets/controls",
            "_model_module_version": "1.5.0",
            "_model_name": "DescriptionStyleModel",
            "_view_count": null,
            "_view_module": "@jupyter-widgets/base",
            "_view_module_version": "1.2.0",
            "_view_name": "StyleView",
            "description_width": ""
          }
        },
        "d7844eb72f29486cab34d2a1a900a4e9": {
          "model_module": "@jupyter-widgets/base",
          "model_name": "LayoutModel",
          "model_module_version": "1.2.0",
          "state": {
            "_model_module": "@jupyter-widgets/base",
            "_model_module_version": "1.2.0",
            "_model_name": "LayoutModel",
            "_view_count": null,
            "_view_module": "@jupyter-widgets/base",
            "_view_module_version": "1.2.0",
            "_view_name": "LayoutView",
            "align_content": null,
            "align_items": null,
            "align_self": null,
            "border": null,
            "bottom": null,
            "display": null,
            "flex": null,
            "flex_flow": null,
            "grid_area": null,
            "grid_auto_columns": null,
            "grid_auto_flow": null,
            "grid_auto_rows": null,
            "grid_column": null,
            "grid_gap": null,
            "grid_row": null,
            "grid_template_areas": null,
            "grid_template_columns": null,
            "grid_template_rows": null,
            "height": null,
            "justify_content": null,
            "justify_items": null,
            "left": null,
            "margin": null,
            "max_height": null,
            "max_width": null,
            "min_height": null,
            "min_width": null,
            "object_fit": null,
            "object_position": null,
            "order": null,
            "overflow": null,
            "overflow_x": null,
            "overflow_y": null,
            "padding": null,
            "right": null,
            "top": null,
            "visibility": null,
            "width": null
          }
        },
        "53746952cb1044ebb31e108873fad7e1": {
          "model_module": "@jupyter-widgets/controls",
          "model_name": "ProgressStyleModel",
          "model_module_version": "1.5.0",
          "state": {
            "_model_module": "@jupyter-widgets/controls",
            "_model_module_version": "1.5.0",
            "_model_name": "ProgressStyleModel",
            "_view_count": null,
            "_view_module": "@jupyter-widgets/base",
            "_view_module_version": "1.2.0",
            "_view_name": "StyleView",
            "bar_color": null,
            "description_width": ""
          }
        },
        "ef70c8773d354c0d82a3798155f54870": {
          "model_module": "@jupyter-widgets/base",
          "model_name": "LayoutModel",
          "model_module_version": "1.2.0",
          "state": {
            "_model_module": "@jupyter-widgets/base",
            "_model_module_version": "1.2.0",
            "_model_name": "LayoutModel",
            "_view_count": null,
            "_view_module": "@jupyter-widgets/base",
            "_view_module_version": "1.2.0",
            "_view_name": "LayoutView",
            "align_content": null,
            "align_items": null,
            "align_self": null,
            "border": null,
            "bottom": null,
            "display": null,
            "flex": null,
            "flex_flow": null,
            "grid_area": null,
            "grid_auto_columns": null,
            "grid_auto_flow": null,
            "grid_auto_rows": null,
            "grid_column": null,
            "grid_gap": null,
            "grid_row": null,
            "grid_template_areas": null,
            "grid_template_columns": null,
            "grid_template_rows": null,
            "height": null,
            "justify_content": null,
            "justify_items": null,
            "left": null,
            "margin": null,
            "max_height": null,
            "max_width": null,
            "min_height": null,
            "min_width": null,
            "object_fit": null,
            "object_position": null,
            "order": null,
            "overflow": null,
            "overflow_x": null,
            "overflow_y": null,
            "padding": null,
            "right": null,
            "top": null,
            "visibility": null,
            "width": null
          }
        },
        "3cbff01ecc094194937d8c291a3112ae": {
          "model_module": "@jupyter-widgets/controls",
          "model_name": "DescriptionStyleModel",
          "model_module_version": "1.5.0",
          "state": {
            "_model_module": "@jupyter-widgets/controls",
            "_model_module_version": "1.5.0",
            "_model_name": "DescriptionStyleModel",
            "_view_count": null,
            "_view_module": "@jupyter-widgets/base",
            "_view_module_version": "1.2.0",
            "_view_name": "StyleView",
            "description_width": ""
          }
        }
      }
    }
  },
  "cells": [
    {
      "cell_type": "markdown",
      "source": [
        "## **Objective of Assignment:-**\n",
        "\n",
        "Use the provided dataset to develop a black-box machine learning model that can convert text\n",
        "between UK and US dialects. You are free to use any architecture to achieve this goal. The final deliverable\n",
        "should be a well-documented Colab notebook containing the implementation details, training process,\n",
        "justification of architectural choices, and any additional insights."
      ],
      "metadata": {
        "id": "0fxczrUMzXng"
      }
    },
    {
      "cell_type": "markdown",
      "source": [
        "## **Blackbox Machine Learning Model :-**\n",
        "\n",
        "Blackbox machine learning refers to models that produce results without revealing their decision-making processes."
      ],
      "metadata": {
        "id": "m_Xow7kizpi6"
      }
    },
    {
      "cell_type": "markdown",
      "source": [
        "# **Step 1 :- Install required libraries**"
      ],
      "metadata": {
        "id": "Pc54ZOuM5hCN"
      }
    },
    {
      "cell_type": "code",
      "source": [
        "!pip install datasets evaluate transformers datasets openai autocorrect sacrebleu rouge_score matplotlib"
      ],
      "metadata": {
        "id": "IxVWGwe-ye87"
      },
      "execution_count": 10,
      "outputs": []
    },
    {
      "cell_type": "markdown",
      "source": [
        "# **Step 2 :- Import necessary libraries**"
      ],
      "metadata": {
        "id": "KF0FKrdd55IG"
      }
    },
    {
      "cell_type": "code",
      "execution_count": 11,
      "metadata": {
        "collapsed": true,
        "id": "MQIdWrW-yD3V"
      },
      "outputs": [],
      "source": [
        "import pandas as pd\n",
        "from datasets import Dataset\n",
        "from transformers import T5Tokenizer, T5ForConditionalGeneration, TrainingArguments, Trainer\n",
        "import re\n",
        "from sklearn.model_selection import train_test_split\n",
        "import warnings\n",
        "warnings.filterwarnings('ignore')\n",
        "import evaluate\n",
        "import openai\n",
        "import matplotlib.pyplot as plt\n",
        "from openai import OpenAI\n",
        "from google.colab import userdata"
      ]
    },
    {
      "cell_type": "markdown",
      "source": [
        "# **Step 3 :- Read the given dataset**"
      ],
      "metadata": {
        "id": "UVly1yu05-mG"
      }
    },
    {
      "cell_type": "code",
      "source": [
        "df = pd.read_csv('/content/CozmoX Assignment Dataset.csv')\n",
        "df.head(4)"
      ],
      "metadata": {
        "id": "fFo0o4I12Xcv",
        "outputId": "0ae8c53c-1022-4366-bbfc-1dbe9daa7775",
        "colab": {
          "base_uri": "https://localhost:8080/",
          "height": 175
        }
      },
      "execution_count": 19,
      "outputs": [
        {
          "output_type": "execute_result",
          "data": {
            "text/plain": [
              "                                    input_text  \\\n",
              "0  I CoLoUr 🎨 the centre of my favourite book.   \n",
              "1          He is travelling ✈️ to the THEATRE.   \n",
              "2                 I have a flat near the lift.   \n",
              "3                I have a flat near the lift.    \n",
              "\n",
              "                               target_text  \n",
              "0  I color the center of my favorite book.  \n",
              "1          He is traveling to the theater.  \n",
              "2   I have an apartment near the elevator.  \n",
              "3   I have an apartment near the elevator.  "
            ],
            "text/html": [
              "\n",
              "  <div id=\"df-54492b13-41df-4d1c-88c7-807ba48dc62e\" class=\"colab-df-container\">\n",
              "    <div>\n",
              "<style scoped>\n",
              "    .dataframe tbody tr th:only-of-type {\n",
              "        vertical-align: middle;\n",
              "    }\n",
              "\n",
              "    .dataframe tbody tr th {\n",
              "        vertical-align: top;\n",
              "    }\n",
              "\n",
              "    .dataframe thead th {\n",
              "        text-align: right;\n",
              "    }\n",
              "</style>\n",
              "<table border=\"1\" class=\"dataframe\">\n",
              "  <thead>\n",
              "    <tr style=\"text-align: right;\">\n",
              "      <th></th>\n",
              "      <th>input_text</th>\n",
              "      <th>target_text</th>\n",
              "    </tr>\n",
              "  </thead>\n",
              "  <tbody>\n",
              "    <tr>\n",
              "      <th>0</th>\n",
              "      <td>I CoLoUr 🎨 the centre of my favourite book.</td>\n",
              "      <td>I color the center of my favorite book.</td>\n",
              "    </tr>\n",
              "    <tr>\n",
              "      <th>1</th>\n",
              "      <td>He is travelling ✈️ to the THEATRE.</td>\n",
              "      <td>He is traveling to the theater.</td>\n",
              "    </tr>\n",
              "    <tr>\n",
              "      <th>2</th>\n",
              "      <td>I have a flat near the lift.</td>\n",
              "      <td>I have an apartment near the elevator.</td>\n",
              "    </tr>\n",
              "    <tr>\n",
              "      <th>3</th>\n",
              "      <td>I have a flat near the lift.</td>\n",
              "      <td>I have an apartment near the elevator.</td>\n",
              "    </tr>\n",
              "  </tbody>\n",
              "</table>\n",
              "</div>\n",
              "    <div class=\"colab-df-buttons\">\n",
              "\n",
              "  <div class=\"colab-df-container\">\n",
              "    <button class=\"colab-df-convert\" onclick=\"convertToInteractive('df-54492b13-41df-4d1c-88c7-807ba48dc62e')\"\n",
              "            title=\"Convert this dataframe to an interactive table.\"\n",
              "            style=\"display:none;\">\n",
              "\n",
              "  <svg xmlns=\"http://www.w3.org/2000/svg\" height=\"24px\" viewBox=\"0 -960 960 960\">\n",
              "    <path d=\"M120-120v-720h720v720H120Zm60-500h600v-160H180v160Zm220 220h160v-160H400v160Zm0 220h160v-160H400v160ZM180-400h160v-160H180v160Zm440 0h160v-160H620v160ZM180-180h160v-160H180v160Zm440 0h160v-160H620v160Z\"/>\n",
              "  </svg>\n",
              "    </button>\n",
              "\n",
              "  <style>\n",
              "    .colab-df-container {\n",
              "      display:flex;\n",
              "      gap: 12px;\n",
              "    }\n",
              "\n",
              "    .colab-df-convert {\n",
              "      background-color: #E8F0FE;\n",
              "      border: none;\n",
              "      border-radius: 50%;\n",
              "      cursor: pointer;\n",
              "      display: none;\n",
              "      fill: #1967D2;\n",
              "      height: 32px;\n",
              "      padding: 0 0 0 0;\n",
              "      width: 32px;\n",
              "    }\n",
              "\n",
              "    .colab-df-convert:hover {\n",
              "      background-color: #E2EBFA;\n",
              "      box-shadow: 0px 1px 2px rgba(60, 64, 67, 0.3), 0px 1px 3px 1px rgba(60, 64, 67, 0.15);\n",
              "      fill: #174EA6;\n",
              "    }\n",
              "\n",
              "    .colab-df-buttons div {\n",
              "      margin-bottom: 4px;\n",
              "    }\n",
              "\n",
              "    [theme=dark] .colab-df-convert {\n",
              "      background-color: #3B4455;\n",
              "      fill: #D2E3FC;\n",
              "    }\n",
              "\n",
              "    [theme=dark] .colab-df-convert:hover {\n",
              "      background-color: #434B5C;\n",
              "      box-shadow: 0px 1px 3px 1px rgba(0, 0, 0, 0.15);\n",
              "      filter: drop-shadow(0px 1px 2px rgba(0, 0, 0, 0.3));\n",
              "      fill: #FFFFFF;\n",
              "    }\n",
              "  </style>\n",
              "\n",
              "    <script>\n",
              "      const buttonEl =\n",
              "        document.querySelector('#df-54492b13-41df-4d1c-88c7-807ba48dc62e button.colab-df-convert');\n",
              "      buttonEl.style.display =\n",
              "        google.colab.kernel.accessAllowed ? 'block' : 'none';\n",
              "\n",
              "      async function convertToInteractive(key) {\n",
              "        const element = document.querySelector('#df-54492b13-41df-4d1c-88c7-807ba48dc62e');\n",
              "        const dataTable =\n",
              "          await google.colab.kernel.invokeFunction('convertToInteractive',\n",
              "                                                    [key], {});\n",
              "        if (!dataTable) return;\n",
              "\n",
              "        const docLinkHtml = 'Like what you see? Visit the ' +\n",
              "          '<a target=\"_blank\" href=https://colab.research.google.com/notebooks/data_table.ipynb>data table notebook</a>'\n",
              "          + ' to learn more about interactive tables.';\n",
              "        element.innerHTML = '';\n",
              "        dataTable['output_type'] = 'display_data';\n",
              "        await google.colab.output.renderOutput(dataTable, element);\n",
              "        const docLink = document.createElement('div');\n",
              "        docLink.innerHTML = docLinkHtml;\n",
              "        element.appendChild(docLink);\n",
              "      }\n",
              "    </script>\n",
              "  </div>\n",
              "\n",
              "\n",
              "<div id=\"df-895de288-b028-43a3-a2cd-3f10443438d6\">\n",
              "  <button class=\"colab-df-quickchart\" onclick=\"quickchart('df-895de288-b028-43a3-a2cd-3f10443438d6')\"\n",
              "            title=\"Suggest charts\"\n",
              "            style=\"display:none;\">\n",
              "\n",
              "<svg xmlns=\"http://www.w3.org/2000/svg\" height=\"24px\"viewBox=\"0 0 24 24\"\n",
              "     width=\"24px\">\n",
              "    <g>\n",
              "        <path d=\"M19 3H5c-1.1 0-2 .9-2 2v14c0 1.1.9 2 2 2h14c1.1 0 2-.9 2-2V5c0-1.1-.9-2-2-2zM9 17H7v-7h2v7zm4 0h-2V7h2v10zm4 0h-2v-4h2v4z\"/>\n",
              "    </g>\n",
              "</svg>\n",
              "  </button>\n",
              "\n",
              "<style>\n",
              "  .colab-df-quickchart {\n",
              "      --bg-color: #E8F0FE;\n",
              "      --fill-color: #1967D2;\n",
              "      --hover-bg-color: #E2EBFA;\n",
              "      --hover-fill-color: #174EA6;\n",
              "      --disabled-fill-color: #AAA;\n",
              "      --disabled-bg-color: #DDD;\n",
              "  }\n",
              "\n",
              "  [theme=dark] .colab-df-quickchart {\n",
              "      --bg-color: #3B4455;\n",
              "      --fill-color: #D2E3FC;\n",
              "      --hover-bg-color: #434B5C;\n",
              "      --hover-fill-color: #FFFFFF;\n",
              "      --disabled-bg-color: #3B4455;\n",
              "      --disabled-fill-color: #666;\n",
              "  }\n",
              "\n",
              "  .colab-df-quickchart {\n",
              "    background-color: var(--bg-color);\n",
              "    border: none;\n",
              "    border-radius: 50%;\n",
              "    cursor: pointer;\n",
              "    display: none;\n",
              "    fill: var(--fill-color);\n",
              "    height: 32px;\n",
              "    padding: 0;\n",
              "    width: 32px;\n",
              "  }\n",
              "\n",
              "  .colab-df-quickchart:hover {\n",
              "    background-color: var(--hover-bg-color);\n",
              "    box-shadow: 0 1px 2px rgba(60, 64, 67, 0.3), 0 1px 3px 1px rgba(60, 64, 67, 0.15);\n",
              "    fill: var(--button-hover-fill-color);\n",
              "  }\n",
              "\n",
              "  .colab-df-quickchart-complete:disabled,\n",
              "  .colab-df-quickchart-complete:disabled:hover {\n",
              "    background-color: var(--disabled-bg-color);\n",
              "    fill: var(--disabled-fill-color);\n",
              "    box-shadow: none;\n",
              "  }\n",
              "\n",
              "  .colab-df-spinner {\n",
              "    border: 2px solid var(--fill-color);\n",
              "    border-color: transparent;\n",
              "    border-bottom-color: var(--fill-color);\n",
              "    animation:\n",
              "      spin 1s steps(1) infinite;\n",
              "  }\n",
              "\n",
              "  @keyframes spin {\n",
              "    0% {\n",
              "      border-color: transparent;\n",
              "      border-bottom-color: var(--fill-color);\n",
              "      border-left-color: var(--fill-color);\n",
              "    }\n",
              "    20% {\n",
              "      border-color: transparent;\n",
              "      border-left-color: var(--fill-color);\n",
              "      border-top-color: var(--fill-color);\n",
              "    }\n",
              "    30% {\n",
              "      border-color: transparent;\n",
              "      border-left-color: var(--fill-color);\n",
              "      border-top-color: var(--fill-color);\n",
              "      border-right-color: var(--fill-color);\n",
              "    }\n",
              "    40% {\n",
              "      border-color: transparent;\n",
              "      border-right-color: var(--fill-color);\n",
              "      border-top-color: var(--fill-color);\n",
              "    }\n",
              "    60% {\n",
              "      border-color: transparent;\n",
              "      border-right-color: var(--fill-color);\n",
              "    }\n",
              "    80% {\n",
              "      border-color: transparent;\n",
              "      border-right-color: var(--fill-color);\n",
              "      border-bottom-color: var(--fill-color);\n",
              "    }\n",
              "    90% {\n",
              "      border-color: transparent;\n",
              "      border-bottom-color: var(--fill-color);\n",
              "    }\n",
              "  }\n",
              "</style>\n",
              "\n",
              "  <script>\n",
              "    async function quickchart(key) {\n",
              "      const quickchartButtonEl =\n",
              "        document.querySelector('#' + key + ' button');\n",
              "      quickchartButtonEl.disabled = true;  // To prevent multiple clicks.\n",
              "      quickchartButtonEl.classList.add('colab-df-spinner');\n",
              "      try {\n",
              "        const charts = await google.colab.kernel.invokeFunction(\n",
              "            'suggestCharts', [key], {});\n",
              "      } catch (error) {\n",
              "        console.error('Error during call to suggestCharts:', error);\n",
              "      }\n",
              "      quickchartButtonEl.classList.remove('colab-df-spinner');\n",
              "      quickchartButtonEl.classList.add('colab-df-quickchart-complete');\n",
              "    }\n",
              "    (() => {\n",
              "      let quickchartButtonEl =\n",
              "        document.querySelector('#df-895de288-b028-43a3-a2cd-3f10443438d6 button');\n",
              "      quickchartButtonEl.style.display =\n",
              "        google.colab.kernel.accessAllowed ? 'block' : 'none';\n",
              "    })();\n",
              "  </script>\n",
              "</div>\n",
              "\n",
              "    </div>\n",
              "  </div>\n"
            ],
            "application/vnd.google.colaboratory.intrinsic+json": {
              "type": "dataframe",
              "variable_name": "df",
              "summary": "{\n  \"name\": \"df\",\n  \"rows\": 96,\n  \"fields\": [\n    {\n      \"column\": \"input_text\",\n      \"properties\": {\n        \"dtype\": \"string\",\n        \"num_unique_values\": 96,\n        \"samples\": [\n          \"The programme \\ud83d\\uddd3\\ufe0f was postponed.\",\n          \"The aeroplane \\u2708\\ufe0f was on time.\",\n          \"Her favourite flower is a rose.\"\n        ],\n        \"semantic_type\": \"\",\n        \"description\": \"\"\n      }\n    },\n    {\n      \"column\": \"target_text\",\n      \"properties\": {\n        \"dtype\": \"string\",\n        \"num_unique_values\": 95,\n        \"samples\": [\n          \"The theater group is performing tonight.\",\n          \"Their neighborhood is beautiful.\",\n          \"Her favorite flower is a rose.\"\n        ],\n        \"semantic_type\": \"\",\n        \"description\": \"\"\n      }\n    }\n  ]\n}"
            }
          },
          "metadata": {},
          "execution_count": 19
        }
      ]
    },
    {
      "cell_type": "markdown",
      "source": [
        "# **Step 4 :- Clean the dataset**"
      ],
      "metadata": {
        "id": "a5QWGKKP6LQt"
      }
    },
    {
      "cell_type": "code",
      "source": [
        "# Function to clean text\n",
        "def clean_text(text):\n",
        "    text = re.sub(r'[^\\w\\s]', '', text)  # Remove punctuation\n",
        "    text = re.sub(r'[^\\x00-\\x7F]+', '', text)  # Remove emojis & non-ASCII characters\n",
        "    text = re.sub(r'\\s+', ' ', text).strip()  # Normalize whitespace\n",
        "    return text.lower()  # Convert to lowercase\n",
        "\n",
        "# Apply cleaning\n",
        "df[\"input_text_clean\"] = df[\"input_text\"].apply(clean_text)\n",
        "df[\"target_text_clean\"] = df[\"target_text\"].apply(clean_text)\n",
        "\n",
        "df.head()\n"
      ],
      "metadata": {
        "id": "T3tUx3rw3t4v",
        "outputId": "bbec6cee-fa2e-4c89-b0fc-44175ce0b91e",
        "colab": {
          "base_uri": "https://localhost:8080/",
          "height": 206
        }
      },
      "execution_count": 25,
      "outputs": [
        {
          "output_type": "execute_result",
          "data": {
            "text/plain": [
              "                                    input_text  \\\n",
              "0  I CoLoUr 🎨 the centre of my favourite book.   \n",
              "1          He is travelling ✈️ to the THEATRE.   \n",
              "2                 I have a flat near the lift.   \n",
              "3                I have a flat near the lift.    \n",
              "4    The PROGRAMME 🗓️ will start at 6 O'CLOCK.   \n",
              "\n",
              "                               target_text  \\\n",
              "0  I color the center of my favorite book.   \n",
              "1          He is traveling to the theater.   \n",
              "2   I have an apartment near the elevator.   \n",
              "3   I have an apartment near the elevator.   \n",
              "4     The program will start at 6 o'clock.   \n",
              "\n",
              "                           input_text_clean  \\\n",
              "0  i colour the centre of my favourite book   \n",
              "1           he is travelling to the theatre   \n",
              "2               i have a flat near the lift   \n",
              "3               i have a flat near the lift   \n",
              "4      the programme will start at 6 oclock   \n",
              "\n",
              "                        target_text_clean  uk_length  us_length  \n",
              "0  i color the center of my favorite book         40         38  \n",
              "1          he is traveling to the theater         31         30  \n",
              "2   i have an apartment near the elevator         27         37  \n",
              "3   i have an apartment near the elevator         27         37  \n",
              "4      the program will start at 6 oclock         36         34  "
            ],
            "text/html": [
              "\n",
              "  <div id=\"df-09b9c749-9566-437e-9ea9-ae80f5d40ff6\" class=\"colab-df-container\">\n",
              "    <div>\n",
              "<style scoped>\n",
              "    .dataframe tbody tr th:only-of-type {\n",
              "        vertical-align: middle;\n",
              "    }\n",
              "\n",
              "    .dataframe tbody tr th {\n",
              "        vertical-align: top;\n",
              "    }\n",
              "\n",
              "    .dataframe thead th {\n",
              "        text-align: right;\n",
              "    }\n",
              "</style>\n",
              "<table border=\"1\" class=\"dataframe\">\n",
              "  <thead>\n",
              "    <tr style=\"text-align: right;\">\n",
              "      <th></th>\n",
              "      <th>input_text</th>\n",
              "      <th>target_text</th>\n",
              "      <th>input_text_clean</th>\n",
              "      <th>target_text_clean</th>\n",
              "      <th>uk_length</th>\n",
              "      <th>us_length</th>\n",
              "    </tr>\n",
              "  </thead>\n",
              "  <tbody>\n",
              "    <tr>\n",
              "      <th>0</th>\n",
              "      <td>I CoLoUr 🎨 the centre of my favourite book.</td>\n",
              "      <td>I color the center of my favorite book.</td>\n",
              "      <td>i colour the centre of my favourite book</td>\n",
              "      <td>i color the center of my favorite book</td>\n",
              "      <td>40</td>\n",
              "      <td>38</td>\n",
              "    </tr>\n",
              "    <tr>\n",
              "      <th>1</th>\n",
              "      <td>He is travelling ✈️ to the THEATRE.</td>\n",
              "      <td>He is traveling to the theater.</td>\n",
              "      <td>he is travelling to the theatre</td>\n",
              "      <td>he is traveling to the theater</td>\n",
              "      <td>31</td>\n",
              "      <td>30</td>\n",
              "    </tr>\n",
              "    <tr>\n",
              "      <th>2</th>\n",
              "      <td>I have a flat near the lift.</td>\n",
              "      <td>I have an apartment near the elevator.</td>\n",
              "      <td>i have a flat near the lift</td>\n",
              "      <td>i have an apartment near the elevator</td>\n",
              "      <td>27</td>\n",
              "      <td>37</td>\n",
              "    </tr>\n",
              "    <tr>\n",
              "      <th>3</th>\n",
              "      <td>I have a flat near the lift.</td>\n",
              "      <td>I have an apartment near the elevator.</td>\n",
              "      <td>i have a flat near the lift</td>\n",
              "      <td>i have an apartment near the elevator</td>\n",
              "      <td>27</td>\n",
              "      <td>37</td>\n",
              "    </tr>\n",
              "    <tr>\n",
              "      <th>4</th>\n",
              "      <td>The PROGRAMME 🗓️ will start at 6 O'CLOCK.</td>\n",
              "      <td>The program will start at 6 o'clock.</td>\n",
              "      <td>the programme will start at 6 oclock</td>\n",
              "      <td>the program will start at 6 oclock</td>\n",
              "      <td>36</td>\n",
              "      <td>34</td>\n",
              "    </tr>\n",
              "  </tbody>\n",
              "</table>\n",
              "</div>\n",
              "    <div class=\"colab-df-buttons\">\n",
              "\n",
              "  <div class=\"colab-df-container\">\n",
              "    <button class=\"colab-df-convert\" onclick=\"convertToInteractive('df-09b9c749-9566-437e-9ea9-ae80f5d40ff6')\"\n",
              "            title=\"Convert this dataframe to an interactive table.\"\n",
              "            style=\"display:none;\">\n",
              "\n",
              "  <svg xmlns=\"http://www.w3.org/2000/svg\" height=\"24px\" viewBox=\"0 -960 960 960\">\n",
              "    <path d=\"M120-120v-720h720v720H120Zm60-500h600v-160H180v160Zm220 220h160v-160H400v160Zm0 220h160v-160H400v160ZM180-400h160v-160H180v160Zm440 0h160v-160H620v160ZM180-180h160v-160H180v160Zm440 0h160v-160H620v160Z\"/>\n",
              "  </svg>\n",
              "    </button>\n",
              "\n",
              "  <style>\n",
              "    .colab-df-container {\n",
              "      display:flex;\n",
              "      gap: 12px;\n",
              "    }\n",
              "\n",
              "    .colab-df-convert {\n",
              "      background-color: #E8F0FE;\n",
              "      border: none;\n",
              "      border-radius: 50%;\n",
              "      cursor: pointer;\n",
              "      display: none;\n",
              "      fill: #1967D2;\n",
              "      height: 32px;\n",
              "      padding: 0 0 0 0;\n",
              "      width: 32px;\n",
              "    }\n",
              "\n",
              "    .colab-df-convert:hover {\n",
              "      background-color: #E2EBFA;\n",
              "      box-shadow: 0px 1px 2px rgba(60, 64, 67, 0.3), 0px 1px 3px 1px rgba(60, 64, 67, 0.15);\n",
              "      fill: #174EA6;\n",
              "    }\n",
              "\n",
              "    .colab-df-buttons div {\n",
              "      margin-bottom: 4px;\n",
              "    }\n",
              "\n",
              "    [theme=dark] .colab-df-convert {\n",
              "      background-color: #3B4455;\n",
              "      fill: #D2E3FC;\n",
              "    }\n",
              "\n",
              "    [theme=dark] .colab-df-convert:hover {\n",
              "      background-color: #434B5C;\n",
              "      box-shadow: 0px 1px 3px 1px rgba(0, 0, 0, 0.15);\n",
              "      filter: drop-shadow(0px 1px 2px rgba(0, 0, 0, 0.3));\n",
              "      fill: #FFFFFF;\n",
              "    }\n",
              "  </style>\n",
              "\n",
              "    <script>\n",
              "      const buttonEl =\n",
              "        document.querySelector('#df-09b9c749-9566-437e-9ea9-ae80f5d40ff6 button.colab-df-convert');\n",
              "      buttonEl.style.display =\n",
              "        google.colab.kernel.accessAllowed ? 'block' : 'none';\n",
              "\n",
              "      async function convertToInteractive(key) {\n",
              "        const element = document.querySelector('#df-09b9c749-9566-437e-9ea9-ae80f5d40ff6');\n",
              "        const dataTable =\n",
              "          await google.colab.kernel.invokeFunction('convertToInteractive',\n",
              "                                                    [key], {});\n",
              "        if (!dataTable) return;\n",
              "\n",
              "        const docLinkHtml = 'Like what you see? Visit the ' +\n",
              "          '<a target=\"_blank\" href=https://colab.research.google.com/notebooks/data_table.ipynb>data table notebook</a>'\n",
              "          + ' to learn more about interactive tables.';\n",
              "        element.innerHTML = '';\n",
              "        dataTable['output_type'] = 'display_data';\n",
              "        await google.colab.output.renderOutput(dataTable, element);\n",
              "        const docLink = document.createElement('div');\n",
              "        docLink.innerHTML = docLinkHtml;\n",
              "        element.appendChild(docLink);\n",
              "      }\n",
              "    </script>\n",
              "  </div>\n",
              "\n",
              "\n",
              "<div id=\"df-351664f8-11b2-424f-8b0d-ab38d72e71d5\">\n",
              "  <button class=\"colab-df-quickchart\" onclick=\"quickchart('df-351664f8-11b2-424f-8b0d-ab38d72e71d5')\"\n",
              "            title=\"Suggest charts\"\n",
              "            style=\"display:none;\">\n",
              "\n",
              "<svg xmlns=\"http://www.w3.org/2000/svg\" height=\"24px\"viewBox=\"0 0 24 24\"\n",
              "     width=\"24px\">\n",
              "    <g>\n",
              "        <path d=\"M19 3H5c-1.1 0-2 .9-2 2v14c0 1.1.9 2 2 2h14c1.1 0 2-.9 2-2V5c0-1.1-.9-2-2-2zM9 17H7v-7h2v7zm4 0h-2V7h2v10zm4 0h-2v-4h2v4z\"/>\n",
              "    </g>\n",
              "</svg>\n",
              "  </button>\n",
              "\n",
              "<style>\n",
              "  .colab-df-quickchart {\n",
              "      --bg-color: #E8F0FE;\n",
              "      --fill-color: #1967D2;\n",
              "      --hover-bg-color: #E2EBFA;\n",
              "      --hover-fill-color: #174EA6;\n",
              "      --disabled-fill-color: #AAA;\n",
              "      --disabled-bg-color: #DDD;\n",
              "  }\n",
              "\n",
              "  [theme=dark] .colab-df-quickchart {\n",
              "      --bg-color: #3B4455;\n",
              "      --fill-color: #D2E3FC;\n",
              "      --hover-bg-color: #434B5C;\n",
              "      --hover-fill-color: #FFFFFF;\n",
              "      --disabled-bg-color: #3B4455;\n",
              "      --disabled-fill-color: #666;\n",
              "  }\n",
              "\n",
              "  .colab-df-quickchart {\n",
              "    background-color: var(--bg-color);\n",
              "    border: none;\n",
              "    border-radius: 50%;\n",
              "    cursor: pointer;\n",
              "    display: none;\n",
              "    fill: var(--fill-color);\n",
              "    height: 32px;\n",
              "    padding: 0;\n",
              "    width: 32px;\n",
              "  }\n",
              "\n",
              "  .colab-df-quickchart:hover {\n",
              "    background-color: var(--hover-bg-color);\n",
              "    box-shadow: 0 1px 2px rgba(60, 64, 67, 0.3), 0 1px 3px 1px rgba(60, 64, 67, 0.15);\n",
              "    fill: var(--button-hover-fill-color);\n",
              "  }\n",
              "\n",
              "  .colab-df-quickchart-complete:disabled,\n",
              "  .colab-df-quickchart-complete:disabled:hover {\n",
              "    background-color: var(--disabled-bg-color);\n",
              "    fill: var(--disabled-fill-color);\n",
              "    box-shadow: none;\n",
              "  }\n",
              "\n",
              "  .colab-df-spinner {\n",
              "    border: 2px solid var(--fill-color);\n",
              "    border-color: transparent;\n",
              "    border-bottom-color: var(--fill-color);\n",
              "    animation:\n",
              "      spin 1s steps(1) infinite;\n",
              "  }\n",
              "\n",
              "  @keyframes spin {\n",
              "    0% {\n",
              "      border-color: transparent;\n",
              "      border-bottom-color: var(--fill-color);\n",
              "      border-left-color: var(--fill-color);\n",
              "    }\n",
              "    20% {\n",
              "      border-color: transparent;\n",
              "      border-left-color: var(--fill-color);\n",
              "      border-top-color: var(--fill-color);\n",
              "    }\n",
              "    30% {\n",
              "      border-color: transparent;\n",
              "      border-left-color: var(--fill-color);\n",
              "      border-top-color: var(--fill-color);\n",
              "      border-right-color: var(--fill-color);\n",
              "    }\n",
              "    40% {\n",
              "      border-color: transparent;\n",
              "      border-right-color: var(--fill-color);\n",
              "      border-top-color: var(--fill-color);\n",
              "    }\n",
              "    60% {\n",
              "      border-color: transparent;\n",
              "      border-right-color: var(--fill-color);\n",
              "    }\n",
              "    80% {\n",
              "      border-color: transparent;\n",
              "      border-right-color: var(--fill-color);\n",
              "      border-bottom-color: var(--fill-color);\n",
              "    }\n",
              "    90% {\n",
              "      border-color: transparent;\n",
              "      border-bottom-color: var(--fill-color);\n",
              "    }\n",
              "  }\n",
              "</style>\n",
              "\n",
              "  <script>\n",
              "    async function quickchart(key) {\n",
              "      const quickchartButtonEl =\n",
              "        document.querySelector('#' + key + ' button');\n",
              "      quickchartButtonEl.disabled = true;  // To prevent multiple clicks.\n",
              "      quickchartButtonEl.classList.add('colab-df-spinner');\n",
              "      try {\n",
              "        const charts = await google.colab.kernel.invokeFunction(\n",
              "            'suggestCharts', [key], {});\n",
              "      } catch (error) {\n",
              "        console.error('Error during call to suggestCharts:', error);\n",
              "      }\n",
              "      quickchartButtonEl.classList.remove('colab-df-spinner');\n",
              "      quickchartButtonEl.classList.add('colab-df-quickchart-complete');\n",
              "    }\n",
              "    (() => {\n",
              "      let quickchartButtonEl =\n",
              "        document.querySelector('#df-351664f8-11b2-424f-8b0d-ab38d72e71d5 button');\n",
              "      quickchartButtonEl.style.display =\n",
              "        google.colab.kernel.accessAllowed ? 'block' : 'none';\n",
              "    })();\n",
              "  </script>\n",
              "</div>\n",
              "\n",
              "    </div>\n",
              "  </div>\n"
            ],
            "application/vnd.google.colaboratory.intrinsic+json": {
              "type": "dataframe",
              "variable_name": "df",
              "summary": "{\n  \"name\": \"df\",\n  \"rows\": 96,\n  \"fields\": [\n    {\n      \"column\": \"input_text\",\n      \"properties\": {\n        \"dtype\": \"string\",\n        \"num_unique_values\": 96,\n        \"samples\": [\n          \"The programme \\ud83d\\uddd3\\ufe0f was postponed.\",\n          \"The aeroplane \\u2708\\ufe0f was on time.\",\n          \"Her favourite flower is a rose.\"\n        ],\n        \"semantic_type\": \"\",\n        \"description\": \"\"\n      }\n    },\n    {\n      \"column\": \"target_text\",\n      \"properties\": {\n        \"dtype\": \"string\",\n        \"num_unique_values\": 95,\n        \"samples\": [\n          \"The theater group is performing tonight.\",\n          \"Their neighborhood is beautiful.\",\n          \"Her favorite flower is a rose.\"\n        ],\n        \"semantic_type\": \"\",\n        \"description\": \"\"\n      }\n    },\n    {\n      \"column\": \"input_text_clean\",\n      \"properties\": {\n        \"dtype\": \"string\",\n        \"num_unique_values\": 95,\n        \"samples\": [\n          \"the theatre group is performing tonight\",\n          \"their neighbourhood is beautiful\",\n          \"her favourite flower is a rose\"\n        ],\n        \"semantic_type\": \"\",\n        \"description\": \"\"\n      }\n    },\n    {\n      \"column\": \"target_text_clean\",\n      \"properties\": {\n        \"dtype\": \"string\",\n        \"num_unique_values\": 95,\n        \"samples\": [\n          \"the theater group is performing tonight\",\n          \"their neighborhood is beautiful\",\n          \"her favorite flower is a rose\"\n        ],\n        \"semantic_type\": \"\",\n        \"description\": \"\"\n      }\n    },\n    {\n      \"column\": \"uk_length\",\n      \"properties\": {\n        \"dtype\": \"number\",\n        \"std\": 5,\n        \"min\": 17,\n        \"max\": 43,\n        \"num_unique_values\": 24,\n        \"samples\": [\n          30,\n          34,\n          40\n        ],\n        \"semantic_type\": \"\",\n        \"description\": \"\"\n      }\n    },\n    {\n      \"column\": \"us_length\",\n      \"properties\": {\n        \"dtype\": \"number\",\n        \"std\": 5,\n        \"min\": 17,\n        \"max\": 41,\n        \"num_unique_values\": 22,\n        \"samples\": [\n          38,\n          40,\n          17\n        ],\n        \"semantic_type\": \"\",\n        \"description\": \"\"\n      }\n    }\n  ]\n}"
            }
          },
          "metadata": {},
          "execution_count": 25
        }
      ]
    },
    {
      "cell_type": "markdown",
      "source": [
        "# **Step 5 :- Text-Data Analaysis**"
      ],
      "metadata": {
        "id": "33zlrCRj6Upz"
      }
    },
    {
      "cell_type": "markdown",
      "source": [
        "### **I. Word Frequency Analysis**\n",
        "\n",
        "*   To check most commonly occurring words in UK vs. US dialects.\n",
        "*   To check which words have significant spelling differences.\n"
      ],
      "metadata": {
        "id": "0rPYVTO-4TpH"
      }
    },
    {
      "cell_type": "code",
      "source": [
        "from collections import Counter\n",
        "\n",
        "# Tokenize words\n",
        "uk_words = \" \".join(df[\"input_text_clean\"]).split()\n",
        "us_words = \" \".join(df[\"target_text_clean\"]).split()\n",
        "\n",
        "# Count occurrences\n",
        "uk_word_counts = Counter(uk_words)\n",
        "us_word_counts = Counter(us_words)\n",
        "\n",
        "# Top 10 words in UK vs US text\n",
        "print(\"Top UK words:\", uk_word_counts.most_common(10))\n",
        "print(\"Top US words:\", us_word_counts.most_common(10))\n"
      ],
      "metadata": {
        "id": "Uf-Dfotk3t1Y",
        "outputId": "53bf952b-cba1-485e-dd73-644124cd19fd",
        "colab": {
          "base_uri": "https://localhost:8080/",
          "height": 0
        }
      },
      "execution_count": 21,
      "outputs": [
        {
          "output_type": "stream",
          "name": "stdout",
          "text": [
            "Top UK words: [('the', 65), ('is', 36), ('cheque', 18), ('has', 12), ('aeroplane', 12), ('he', 11), ('for', 11), ('programme', 10), ('she', 10), ('her', 10)]\n",
            "Top US words: [('the', 65), ('is', 36), ('check', 18), ('has', 12), ('airplane', 12), ('he', 11), ('for', 11), ('program', 10), ('she', 10), ('her', 10)]\n"
          ]
        }
      ]
    },
    {
      "cell_type": "code",
      "source": [
        "df[\"uk_length\"] = df[\"input_text_clean\"].apply(len)\n",
        "df[\"us_length\"] = df[\"target_text_clean\"].apply(len)\n",
        "\n",
        "plt.hist(df[\"uk_length\"], alpha=0.5, label=\"UK Text\", color=\"blue\")\n",
        "plt.hist(df[\"us_length\"], alpha=0.5, label=\"US Text\", color=\"red\")\n",
        "plt.legend()\n",
        "plt.xlabel(\"Text Length\")\n",
        "plt.ylabel(\"Frequency\")\n",
        "plt.title(\"Length Distribution of UK vs US Text\")\n",
        "plt.show()\n"
      ],
      "metadata": {
        "id": "1kANbi07329A",
        "outputId": "c9ca0e7f-b1ff-49fc-fdc6-a08002786fd9",
        "colab": {
          "base_uri": "https://localhost:8080/",
          "height": 472
        }
      },
      "execution_count": 22,
      "outputs": [
        {
          "output_type": "display_data",
          "data": {
            "text/plain": [
              "<Figure size 640x480 with 1 Axes>"
            ],
            "image/png": "[encoded data removed]"
          },
          "metadata": {}
        }
      ]
    },
    {
      "cell_type": "markdown",
      "source": [
        "#### **Insights from above Plot :-**\n",
        "\n",
        "1. Text Length Stays Mostly the Same: When converting UK text to US English, the overall length of the sentences generally doesn't change significantly.\n",
        "\n",
        "2. Small Variations: There might be minor differences in the average length or how much the lengths vary, but these differences are likely to be small."
      ],
      "metadata": {
        "id": "MCayEjAa42SZ"
      }
    },
    {
      "cell_type": "markdown",
      "source": [
        "### **II. Identifying Dialect Changes**"
      ],
      "metadata": {
        "id": "_Pf7hvEl5Dsn"
      }
    },
    {
      "cell_type": "code",
      "source": [
        "uk_words_set = set(uk_words)\n",
        "us_words_set = set(us_words)\n",
        "\n",
        "# Find words that appear in UK but not in US (potential dialect differences)\n",
        "dialect_differences = uk_words_set - us_words_set\n",
        "\n",
        "print(\"Common UK-to-US word differences:\", dialect_differences)\n"
      ],
      "metadata": {
        "id": "GF87LNzf3258",
        "outputId": "1be5b8c4-edf7-4164-ecf8-acb2f0eb09c9",
        "colab": {
          "base_uri": "https://localhost:8080/",
          "height": 0
        }
      },
      "execution_count": 23,
      "outputs": [
        {
          "output_type": "stream",
          "name": "stdout",
          "text": [
            "Common UK-to-US word differences: {'cheque', 'colour', 'travelling', 'flat', 'spanner', 'programme', 'theatres', 'cancelled', 'lift', 'practises', 'theatre', 'centre', 'aeroplane', 'football', 'jewellery', 'practising', 'neighbourhood', 'practise', 'favourite', 'behaviour', 'match'}\n"
          ]
        }
      ]
    },
    {
      "cell_type": "markdown",
      "source": [
        "### **III. Direct Word Mapping (Word-by-Word Changes)**"
      ],
      "metadata": {
        "id": "IG9BVzdf5R1y"
      }
    },
    {
      "cell_type": "code",
      "source": [
        "word_map = {uk: us for uk, us in zip(df[\"input_text_clean\"], df[\"target_text_clean\"])}\n",
        "print(\"Example UK-to-US word mappings:\", list(word_map.items())[:10])\n"
      ],
      "metadata": {
        "id": "nT5Lf0se323z",
        "outputId": "3f4c4ec7-3222-4c40-9b13-a6910f44f42a",
        "colab": {
          "base_uri": "https://localhost:8080/",
          "height": 0
        }
      },
      "execution_count": 24,
      "outputs": [
        {
          "output_type": "stream",
          "name": "stdout",
          "text": [
            "Example UK-to-US word mappings: [('i colour the centre of my favourite book', 'i color the center of my favorite book'), ('he is travelling to the theatre', 'he is traveling to the theater'), ('i have a flat near the lift', 'i have an apartment near the elevator'), ('the programme will start at 6 oclock', 'the program will start at 6 oclock'), ('he has a cheque for payment', 'he has a check for payment'), ('she wears jewellery on occasions', 'she wears jewelry on occasions'), ('they are practising for the football match', 'they are practicing for the soccer game'), ('he is using a spanner for the repair', 'he is using a wrench for the repair'), ('the aeroplane landed on time', 'the airplane landed on time'), ('hello how are you', 'hello how are you')]\n"
          ]
        }
      ]
    },
    {
      "cell_type": "code",
      "source": [
        "#Purpose : Check for Missing values\n",
        "\n",
        "df.isna().sum()"
      ],
      "metadata": {
        "id": "uYOPY-oM2XZQ",
        "outputId": "037dd208-51fb-40ff-d9e5-57f7d86a9304",
        "colab": {
          "base_uri": "https://localhost:8080/",
          "height": 147
        }
      },
      "execution_count": 13,
      "outputs": [
        {
          "output_type": "execute_result",
          "data": {
            "text/plain": [
              "input_text     0\n",
              "target_text    0\n",
              "dtype: int64"
            ],
            "text/html": [
              "<div>\n",
              "<style scoped>\n",
              "    .dataframe tbody tr th:only-of-type {\n",
              "        vertical-align: middle;\n",
              "    }\n",
              "\n",
              "    .dataframe tbody tr th {\n",
              "        vertical-align: top;\n",
              "    }\n",
              "\n",
              "    .dataframe thead th {\n",
              "        text-align: right;\n",
              "    }\n",
              "</style>\n",
              "<table border=\"1\" class=\"dataframe\">\n",
              "  <thead>\n",
              "    <tr style=\"text-align: right;\">\n",
              "      <th></th>\n",
              "      <th>0</th>\n",
              "    </tr>\n",
              "  </thead>\n",
              "  <tbody>\n",
              "    <tr>\n",
              "      <th>input_text</th>\n",
              "      <td>0</td>\n",
              "    </tr>\n",
              "    <tr>\n",
              "      <th>target_text</th>\n",
              "      <td>0</td>\n",
              "    </tr>\n",
              "  </tbody>\n",
              "</table>\n",
              "</div><br><label><b>dtype:</b> int64</label>"
            ]
          },
          "metadata": {},
          "execution_count": 13
        }
      ]
    },
    {
      "cell_type": "code",
      "source": [
        "#Purpose : to know dataframe properties\n",
        "\n",
        "df.info()"
      ],
      "metadata": {
        "id": "SvuxrElr2XWu",
        "outputId": "dc4e6880-a12f-4264-c59c-a27d65a50e43",
        "colab": {
          "base_uri": "https://localhost:8080/",
          "height": 0
        }
      },
      "execution_count": 14,
      "outputs": [
        {
          "output_type": "stream",
          "name": "stdout",
          "text": [
            "<class 'pandas.core.frame.DataFrame'>\n",
            "RangeIndex: 96 entries, 0 to 95\n",
            "Data columns (total 2 columns):\n",
            " #   Column       Non-Null Count  Dtype \n",
            "---  ------       --------------  ----- \n",
            " 0   input_text   96 non-null     object\n",
            " 1   target_text  96 non-null     object\n",
            "dtypes: object(2)\n",
            "memory usage: 1.6+ KB\n"
          ]
        }
      ]
    },
    {
      "cell_type": "code",
      "source": [
        "df.shape # 96 rows ,2 columns"
      ],
      "metadata": {
        "id": "noRZaIBK2XT0",
        "outputId": "7a219aba-6b5d-4de5-c99a-c3fe7dc5e7fc",
        "colab": {
          "base_uri": "https://localhost:8080/",
          "height": 0
        }
      },
      "execution_count": 15,
      "outputs": [
        {
          "output_type": "execute_result",
          "data": {
            "text/plain": [
              "(96, 2)"
            ]
          },
          "metadata": {},
          "execution_count": 15
        }
      ]
    },
    {
      "cell_type": "markdown",
      "source": [
        "# **T5 Pretrained model from Hugging Face Library**"
      ],
      "metadata": {
        "id": "jsxB-FvgRkmw"
      }
    },
    {
      "cell_type": "code",
      "source": [
        "# from transformers import T5Tokenizer, T5ForConditionalGeneration\n",
        "# import torch\n",
        "import re\n",
        "\n",
        "# Step 1: Load pre-trained T5 model and tokenizer\n",
        "model_name = \"t5-large\"  # You can use t5-base or t5-large for better results\n",
        "tokenizer = T5Tokenizer.from_pretrained(model_name)\n",
        "model = T5ForConditionalGeneration.from_pretrained(model_name)\n",
        "\n",
        "# Move model to GPU if available\n",
        "device = torch.device(\"cuda\" if torch.cuda.is_available() else \"cpu\")\n",
        "model.to(device)\n",
        "\n",
        "# Step 2: Define a function to clean the input text\n",
        "def clean_text(text):\n",
        "    # Remove emojis and special characters\n",
        "    text = re.sub(r'[^\\w\\s]', '', text)  # Removes punctuation\n",
        "    text = re.sub(r'[^\\x00-\\x7F]+', '', text)  # Remove non-ASCII characters (e.g., emojis)\n",
        "    # Normalize whitespace\n",
        "    text = re.sub(r'\\s+', ' ', text).strip()  # Remove extra spaces and trim\n",
        "    # Convert to lowercase (optional, depending on model behavior)\n",
        "    text = text.lower()\n",
        "    return text\n",
        "\n",
        "# Step 3: Define the function to convert UK English to US English\n",
        "def convert_to_us_dialect(input_text):\n",
        "    # Clean the input text\n",
        "    cleaned_text = clean_text(input_text)\n",
        "\n",
        "    # Preprocess the cleaned text for the model\n",
        "    input_ids = tokenizer.encode(f\"convert UK English to US English: {cleaned_text}\", return_tensors=\"pt\").to(device)\n",
        "\n",
        "    # Generate output from the model\n",
        "    output_ids = model.generate(input_ids, max_length=128, num_beams=4, early_stopping=True, no_repeat_ngram_size=2)\n",
        "\n",
        "    # Decode the output to get the final US English sentence\n",
        "    output_text = tokenizer.decode(output_ids[0], skip_special_tokens=True)\n",
        "\n",
        "    return output_text\n",
        "\n",
        "# Step 4: Test the conversion with UK English input\n",
        "input_text = \"The cheque ðŸ’³ arrived late ðŸ˜¢.\"\n",
        "output_text = convert_to_us_dialect(input_text)\n",
        "\n",
        "print(f\"Input: {input_text}\")\n",
        "print(f\"Output: {output_text}\")\n"
      ],
      "metadata": {
        "colab": {
          "base_uri": "https://localhost:8080/",
          "height": 0
        },
        "id": "rpAOPYy514sM",
        "outputId": "2f3c040a-219d-41f9-ca98-c50497d8f17e"
      },
      "execution_count": 84,
      "outputs": [
        {
          "output_type": "stream",
          "name": "stdout",
          "text": [
            "Input: The cheque ðŸ’³ arrived late ðŸ˜¢.\n",
            "Output: the cheque arrived late\n"
          ]
        }
      ]
    },
    {
      "cell_type": "code",
      "source": [
        "convert_to_us_dialect('She wears jewellery ðŸ’Ž on occasions...')"
      ],
      "metadata": {
        "colab": {
          "base_uri": "https://localhost:8080/",
          "height": 36
        },
        "id": "n54vWkOv14mc",
        "outputId": "31b45a96-2343-402b-c491-8c4a23cdce1b"
      },
      "execution_count": 86,
      "outputs": [
        {
          "output_type": "execute_result",
          "data": {
            "text/plain": [
              "'she wears jewellery on occasions'"
            ],
            "application/vnd.google.colaboratory.intrinsic+json": {
              "type": "string"
            }
          },
          "metadata": {},
          "execution_count": 86
        }
      ]
    },
    {
      "cell_type": "markdown",
      "source": [
        "## **A reason to choose T5 Pretrained model from hugging face :-**\n",
        "\n",
        "\n",
        "\n",
        "1. T5 (Text-to-Text Transfer Transformer) is a sequence-to-sequence (Seq2Seq) model that excels in text generation tasks, making it ideal for converting UK English to US English.\n",
        "\n",
        "2. It has been trained on massive text corpora, allowing it to understand context, grammar, and regional variations effectively.\n",
        "\n",
        "\n",
        "3. Unlike simple rule-based replacements, T5 understands meaning and adapts sentence structures where needed.\n",
        "\n",
        "4. T5 can be fine-tuned on a custom dataset (like UK-to-US spelling variations), improving accuracy over general-purpose models.\n",
        "\n",
        "5. Available in different sizes (T5-small, T5-base, T5-large), allowing balance between performance and computational cost depending on the use case."
      ],
      "metadata": {
        "id": "gQyg3PgKrsqP"
      }
    },
    {
      "cell_type": "code",
      "source": [],
      "metadata": {
        "id": "sJOLTKLX14jJ"
      },
      "execution_count": null,
      "outputs": []
    },
    {
      "cell_type": "markdown",
      "source": [
        "# **Evaluation metrics for LLM**"
      ],
      "metadata": {
        "id": "OZZwcOeXTFIW"
      }
    },
    {
      "cell_type": "code",
      "source": [
        "df = pd.read_csv(\"/content/CozmoX Assignment Dataset.csv\")\n",
        "df['input_text'] = df['input_text'].apply(clean_text)\n",
        "df['target_text'] = df['target_text'].apply(clean_text)\n",
        "\n",
        "# Get a subset of test data (20% of the dataset)\n",
        "test_data = df.sample(frac=0.2, random_state=42)\n",
        "\n",
        "# Step 5: Generate Predictions for Test Set\n",
        "predictions = []\n",
        "references = []\n",
        "\n",
        "for index, row in test_data.iterrows():\n",
        "    uk_text = row['input_text']\n",
        "    us_target = row['target_text']\n",
        "\n",
        "    us_predicted = convert_to_us_dialect(uk_text)  # Model prediction\n",
        "\n",
        "    predictions.append(us_predicted)\n",
        "    references.append([us_target])  # BLEU expects references as a list\n",
        "\n",
        "# Step 6: Compute Evaluation Metrics Using `evaluate`\n",
        "bleu = evaluate.load(\"sacrebleu\")  #\n",
        "rouge = evaluate.load(\"rouge\")  #\n",
        "\n",
        "# Compute BLEU Score\n",
        "bleu_score = bleu.compute(predictions=predictions, references=references)\n",
        "print(f\"BLEU Score: {bleu_score['score']}\")\n",
        "\n",
        "# Compute ROUGE Score\n",
        "rouge_score = rouge.compute(predictions=predictions, references=[ref[0] for ref in references])\n",
        "print(f\"ROUGE Score: {rouge_score}\")\n",
        "\n",
        "# Compute Exact Match Accuracy\n",
        "exact_matches = sum([1 if pred == ref[0] else 0 for pred, ref in zip(predictions, references)])\n",
        "accuracy = exact_matches / len(test_data)\n",
        "print(f\"Exact Match Accuracy: {accuracy:.2%}\")"
      ],
      "metadata": {
        "colab": {
          "base_uri": "https://localhost:8080/",
          "height": 0
        },
        "id": "0QxMKpbX14gA",
        "outputId": "35d449b2-5781-458d-dce6-1dec823a6f59"
      },
      "execution_count": 94,
      "outputs": [
        {
          "output_type": "stream",
          "name": "stdout",
          "text": [
            "BLEU Score: 35.26779631662781\n",
            "ROUGE Score: {'rouge1': 0.7180137844611529, 'rouge2': 0.481578947368421, 'rougeL': 0.7202067669172934, 'rougeLsum': 0.7198308270676693}\n",
            "Exact Match Accuracy: 5.26%\n"
          ]
        }
      ]
    },
    {
      "cell_type": "markdown",
      "source": [
        "1. BLEU Score (35.27%) – The model generates decent translations but is not highly accurate. A score above 50% would be better.\n",
        "\n",
        "2. ROUGE Score (~0.71) – The model retains the structure and meaning of UK-to-US conversions well, but bigram overlap (0.47) suggests room for improvement.\n",
        "\n",
        "3. Exact Match Accuracy (5.26%) – Very low, meaning the model often paraphrases instead of giving exact translations.\n",
        "\n",
        "4. Needs More Training – Fine-tuning for more epochs and using a larger dataset would improve accuracy.\n",
        "\n",
        "5. Possible Fixes – Increase dataset size, fine-tune longer, experiment with t5-base vs. t5-large, and add stricter loss functions for better word-to-word mapping."
      ],
      "metadata": {
        "id": "nC3-urgnS3CB"
      }
    },
    {
      "cell_type": "code",
      "source": [],
      "metadata": {
        "id": "RhN-js8C14cv"
      },
      "execution_count": null,
      "outputs": []
    },
    {
      "cell_type": "markdown",
      "source": [
        "# **Fine-Tune T5 Pretrained Model**"
      ],
      "metadata": {
        "id": "qkk5w-tyS5Q1"
      }
    },
    {
      "cell_type": "code",
      "source": [
        "\n",
        "\n",
        "# Step 1: Load your UK-to-US dataset (from CSV)\n",
        "df = pd.read_csv(\"/content/CozmoX Assignment Dataset.csv\")\n",
        "\n",
        "# Step 2: Clean the input text and target text (remove emojis and unwanted characters)\n",
        "def clean_text(text):\n",
        "    # Remove emojis and special characters\n",
        "    text = re.sub(r'[^\\w\\s]', '', text)  # Removes punctuation\n",
        "    text = re.sub(r'[^\\x00-\\x7F]+', '', text)  # Remove non-ASCII characters (e.g., emojis)\n",
        "    text = re.sub(r'\\s+', ' ', text).strip()  # Remove extra spaces and trim\n",
        "    text = text.lower()  # Convert to lowercase (optional)\n",
        "    return text\n",
        "\n",
        "# Apply the cleaning function\n",
        "df['input_text'] = df['input_text'].apply(clean_text)\n",
        "df['target_text'] = df['target_text'].apply(clean_text)\n",
        "\n",
        "# Step 3: Split the dataset into train and validation sets (80% train, 20% validation)\n",
        "train_data, test_data = train_test_split(df, test_size=0.2)\n",
        "\n",
        "# Convert the split datasets to Hugging Face Datasets\n",
        "train_data = Dataset.from_pandas(train_data)\n",
        "test_data = Dataset.from_pandas(test_data)\n",
        "\n",
        "# Step 4: Initialize the T5 tokenizer\n",
        "tokenizer = T5Tokenizer.from_pretrained(\"t5-large\")\n",
        "\n",
        "# Step 5: Tokenize the datasets\n",
        "def tokenize_function(examples):\n",
        "    model_inputs = tokenizer(examples['input_text'], truncation=True, padding='max_length', max_length=32)\n",
        "    labels = tokenizer(examples['target_text'], truncation=True, padding='max_length', max_length=32)\n",
        "    model_inputs['labels'] = labels['input_ids']\n",
        "    return model_inputs\n",
        "\n",
        "# Apply the tokenization function to the datasets\n",
        "train_data = train_data.map(tokenize_function, batched=True)\n",
        "test_data = test_data.map(tokenize_function, batched=True)\n",
        "\n",
        "# Step 6: Load the pre-trained T5 model\n",
        "model = T5ForConditionalGeneration.from_pretrained(\"t5-large\")\n",
        "\n",
        "# Step 7: Set up the training arguments\n",
        "training_args = TrainingArguments(\n",
        "    output_dir=\"./results\",                  # Output directory\n",
        "    evaluation_strategy=\"epoch\",             # Evaluate at the end of each epoch\n",
        "    save_strategy=\"epoch\",                   # Save checkpoints at the end of each epoch\n",
        "    learning_rate=2e-5,                      # Learning rate\n",
        "    per_device_train_batch_size=8,           # Batch size for training\n",
        "    per_device_eval_batch_size=8,            # Batch size for evaluation\n",
        "    num_train_epochs=10,                     # Number of training epochs\n",
        "    weight_decay=0.01,                       # Weight decay\n",
        "    logging_dir=\"./logs\",                    # Directory for logs\n",
        "    logging_steps=10,                        # Log every 10 steps\n",
        "    save_total_limit=2,                      # Only keep the last 2 checkpoints\n",
        "    load_best_model_at_end=True,             # Load the best model at the end\n",
        "    metric_for_best_model=\"eval_loss\",       # Use eval_loss for selecting the best model\n",
        "    greater_is_better=False,                 # We want lower eval_loss, so False\n",
        ")\n",
        "\n",
        "# Step 8: Initialize the Trainer\n",
        "trainer = Trainer(\n",
        "    model=model,                            # The model to train\n",
        "    args=training_args,                     # Training arguments\n",
        "    train_dataset=train_data,               # Training dataset\n",
        "    eval_dataset=test_data,                 # Evaluation dataset\n",
        ")\n",
        "\n",
        "# Step 9: Start training\n",
        "print(\"Starting training...\")\n",
        "trainer.train()\n"
      ],
      "metadata": {
        "colab": {
          "base_uri": "https://localhost:8080/",
          "height": 737,
          "referenced_widgets": [
            "a4415fd8d83a47beb37663ef809e33d1",
            "1c57bc47650c4e66823b4d6316d1252c",
            "27a8dd1d985948f49890d247f841a010",
            "c854ec65fca542ac93c3f7da80c0ce95",
            "e4e41b103c5c4c299170d06847a1f0e9",
            "e99f4209e5d04b38a80029ebfbd5c3c9",
            "ddbc6224fadb4adbb2483f339190347e",
            "25c75d27235545e394d87b5cbf57f22c",
            "98983cf2371d4600a67c1ba1f22f2b70",
            "e99828d57ed845199a059cf3dbd83c69",
            "bdf96d79524b4d64ad8b8c4404944bd8",
            "5afeaa4a7b89436fb2beca90792d64e5",
            "90da4a1e75b94c4586158850d990eea7",
            "6d0a90a608934632bafec51b79a42ac4",
            "1373fa8728be4dc3891e9f85d8554220",
            "3d80e4c7008e44adb54fd92a36b576ca",
            "caf0e1d1326c4e95a463e8575c547c3e",
            "758cb3056daa422e91e6ec30b1fb45b0",
            "d7844eb72f29486cab34d2a1a900a4e9",
            "53746952cb1044ebb31e108873fad7e1",
            "ef70c8773d354c0d82a3798155f54870",
            "3cbff01ecc094194937d8c291a3112ae"
          ]
        },
        "id": "LYJzyRMxyGYD",
        "outputId": "146ff450-47ac-4b52-ef56-7228d12a1e24"
      },
      "execution_count": 4,
      "outputs": [
        {
          "data": {
            "application/vnd.jupyter.widget-view+json": {
              "model_id": "a4415fd8d83a47beb37663ef809e33d1",
              "version_major": 2,
              "version_minor": 0
            },
            "text/plain": [
              "Map:   0%|          | 0/76 [00:00<?, ? examples/s]"
            ]
          },
          "metadata": {},
          "output_type": "display_data"
        },
        {
          "data": {
            "application/vnd.jupyter.widget-view+json": {
              "model_id": "5afeaa4a7b89436fb2beca90792d64e5",
              "version_major": 2,
              "version_minor": 0
            },
            "text/plain": [
              "Map:   0%|          | 0/20 [00:00<?, ? examples/s]"
            ]
          },
          "metadata": {},
          "output_type": "display_data"
        },
        {
          "metadata": {
            "tags": null
          },
          "name": "stdout",
          "output_type": "stream",
          "text": [
            "Starting training...\n"
          ]
        },
        {
          "data": {
            "text/html": [
              "\n",
              "    <div>\n",
              "      \n",
              "      <progress value='51' max='100' style='width:300px; height:20px; vertical-align: middle;'></progress>\n",
              "      [ 51/100 08:34 < 08:34, 0.10 it/s, Epoch 5/10]\n",
              "    </div>\n",
              "    <table border=\"1\" class=\"dataframe\">\n",
              "  <thead>\n",
              " <tr style=\"text-align: left;\">\n",
              "      <th>Epoch</th>\n",
              "      <th>Training Loss</th>\n",
              "      <th>Validation Loss</th>\n",
              "    </tr>\n",
              "  </thead>\n",
              "  <tbody>\n",
              "    <tr>\n",
              "      <td>1</td>\n",
              "      <td>21.815800</td>\n",
              "      <td>17.767271</td>\n",
              "    </tr>\n",
              "    <tr>\n",
              "      <td>2</td>\n",
              "      <td>13.979600</td>\n",
              "      <td>13.263723</td>\n",
              "    </tr>\n",
              "    <tr>\n",
              "      <td>3</td>\n",
              "      <td>10.760000</td>\n",
              "      <td>9.602531</td>\n",
              "    </tr>\n",
              "    <tr>\n",
              "      <td>4</td>\n",
              "      <td>8.432900</td>\n",
              "      <td>7.945449</td>\n",
              "    </tr>\n",
              "    <tr>\n",
              "      <td>5</td>\n",
              "      <td>7.246500</td>\n",
              "      <td>6.227404</td>\n",
              "    </tr>\n",
              "  </tbody>\n",
              "</table><p>"
            ],
            "text/plain": [
              "<IPython.core.display.HTML object>"
            ]
          },
          "metadata": {},
          "output_type": "display_data"
        },
        {
          "output_type": "display_data",
          "data": {
            "text/plain": [
              "<IPython.core.display.HTML object>"
            ],
            "text/html": [
              "\n",
              "    <div>\n",
              "      \n",
              "      <progress value='100' max='100' style='width:300px; height:20px; vertical-align: middle;'></progress>\n",
              "      [100/100 19:48, Epoch 10/10]\n",
              "    </div>\n",
              "    <table border=\"1\" class=\"dataframe\">\n",
              "  <thead>\n",
              " <tr style=\"text-align: left;\">\n",
              "      <th>Epoch</th>\n",
              "      <th>Training Loss</th>\n",
              "      <th>Validation Loss</th>\n",
              "    </tr>\n",
              "  </thead>\n",
              "  <tbody>\n",
              "    <tr>\n",
              "      <td>1</td>\n",
              "      <td>21.815800</td>\n",
              "      <td>17.767271</td>\n",
              "    </tr>\n",
              "    <tr>\n",
              "      <td>2</td>\n",
              "      <td>13.979600</td>\n",
              "      <td>13.263723</td>\n",
              "    </tr>\n",
              "    <tr>\n",
              "      <td>3</td>\n",
              "      <td>10.760000</td>\n",
              "      <td>9.602531</td>\n",
              "    </tr>\n",
              "    <tr>\n",
              "      <td>4</td>\n",
              "      <td>8.432900</td>\n",
              "      <td>7.945449</td>\n",
              "    </tr>\n",
              "    <tr>\n",
              "      <td>5</td>\n",
              "      <td>7.246500</td>\n",
              "      <td>6.227404</td>\n",
              "    </tr>\n",
              "    <tr>\n",
              "      <td>6</td>\n",
              "      <td>5.999700</td>\n",
              "      <td>4.841651</td>\n",
              "    </tr>\n",
              "    <tr>\n",
              "      <td>7</td>\n",
              "      <td>4.439500</td>\n",
              "      <td>4.351715</td>\n",
              "    </tr>\n",
              "    <tr>\n",
              "      <td>8</td>\n",
              "      <td>3.878800</td>\n",
              "      <td>3.861026</td>\n",
              "    </tr>\n",
              "    <tr>\n",
              "      <td>9</td>\n",
              "      <td>3.368400</td>\n",
              "      <td>3.394401</td>\n",
              "    </tr>\n",
              "    <tr>\n",
              "      <td>10</td>\n",
              "      <td>3.326600</td>\n",
              "      <td>3.297665</td>\n",
              "    </tr>\n",
              "  </tbody>\n",
              "</table><p>"
            ]
          },
          "metadata": {}
        },
        {
          "output_type": "stream",
          "name": "stderr",
          "text": [
            "There were missing keys in the checkpoint model loaded: ['encoder.embed_tokens.weight', 'decoder.embed_tokens.weight', 'lm_head.weight'].\n"
          ]
        },
        {
          "output_type": "execute_result",
          "data": {
            "text/plain": [
              "TrainOutput(global_step=100, training_loss=8.32478832244873, metrics={'train_runtime': 1189.4569, 'train_samples_per_second': 0.639, 'train_steps_per_second': 0.084, 'total_flos': 102839746560000.0, 'train_loss': 8.32478832244873, 'epoch': 10.0})"
            ]
          },
          "metadata": {},
          "execution_count": 4
        }
      ]
    },
    {
      "cell_type": "markdown",
      "source": [
        "\n",
        "## **Fine-Tuning T5 Results :-**\n",
        "1. Loss Improvement – Training loss dropped from 21.81 → 3.32, showing strong learning.\n",
        "2. Stable Validation Loss – Reduced from 17.76 → 3.29, meaning better generalization.\n",
        "3. Efficient Training – Completed 10 epochs with consistent improvement."
      ],
      "metadata": {
        "id": "1MXhKFdNtCkl"
      }
    },
    {
      "cell_type": "markdown",
      "source": [
        "## **Reason I go for fine-tuning :-**\n",
        "\n",
        "1. Better Accuracy – Adapts to UK-to-US spelling differences beyond generic translations.\n",
        "2. Task-Specific Learning – Learns common patterns in dialect changes, reducing errors.\n",
        "3. Improved Context Handling – Understands full sentence meaning, not just word replacement.\n",
        "4. More Reliable Outputs – Avoids ambiguity and ensures consistent dialect conversion"
      ],
      "metadata": {
        "id": "kcneE5J_sgSe"
      }
    },
    {
      "cell_type": "code",
      "source": [
        "# Step 1: Save the fine-tuned model and tokenizer\n",
        "model.save_pretrained(\"/content/fine_tuned_t5_uk_to_us\")\n",
        "tokenizer.save_pretrained(\"/content/fine_tuned_t5_uk_to_us\")\n",
        "\n",
        "print(\"Fine-tuned model and tokenizer saved successfully!\")\n"
      ],
      "metadata": {
        "colab": {
          "base_uri": "https://localhost:8080/",
          "height": 0
        },
        "id": "5VW1NnKY0RU8",
        "outputId": "088e4f60-3c2c-4999-8e65-c2b68fec8aea"
      },
      "execution_count": 5,
      "outputs": [
        {
          "output_type": "stream",
          "name": "stdout",
          "text": [
            "Fine-tuned model and tokenizer saved successfully!\n"
          ]
        }
      ]
    },
    {
      "cell_type": "markdown",
      "source": [
        "### **Load Fine-Tune Model**"
      ],
      "metadata": {
        "id": "u3pZ40mg7sEg"
      }
    },
    {
      "cell_type": "code",
      "source": [
        "from transformers import T5ForConditionalGeneration, T5Tokenizer\n",
        "import torch\n",
        "\n",
        "# Step 2: Load the saved fine-tuned model and tokenizer\n",
        "model_path = \"/content/fine_tuned_t5_uk_to_us\"  # Path where the model was saved\n",
        "model = T5ForConditionalGeneration.from_pretrained(model_path)\n",
        "tokenizer = T5Tokenizer.from_pretrained(model_path)\n",
        "\n",
        "# Move model to GPU if available\n",
        "device = torch.device(\"cuda\" if torch.cuda.is_available() else \"cpu\")\n",
        "model.to(device)\n",
        "\n",
        "print(\"Fine-tuned model loaded successfully!\")\n"
      ],
      "metadata": {
        "colab": {
          "base_uri": "https://localhost:8080/",
          "height": 0
        },
        "id": "qKscTYQJyGU1",
        "outputId": "4fde1669-a6e1-4861-e6d3-e3934c90d28f"
      },
      "execution_count": 6,
      "outputs": [
        {
          "output_type": "stream",
          "name": "stdout",
          "text": [
            "Fine-tuned model loaded successfully!\n"
          ]
        }
      ]
    },
    {
      "cell_type": "markdown",
      "source": [
        "### **Define Inference Function**"
      ],
      "metadata": {
        "id": "rXoaDGJe7wpN"
      }
    },
    {
      "cell_type": "code",
      "source": [
        "# Step 3: Define a function to convert UK English to US English\n",
        "def convert_using_fine_tuned_model(input_text):\n",
        "    # Preprocess input text\n",
        "    input_ids = tokenizer.encode(f\"convert UK English to US English: {input_text}\", return_tensors=\"pt\").to(device)\n",
        "\n",
        "    # Generate output from the fine-tuned model\n",
        "    output_ids = model.generate(input_ids, max_length=128, num_beams=4, early_stopping=True)\n",
        "\n",
        "    # Decode the output to get the final US English sentence\n",
        "    output_text = tokenizer.decode(output_ids[0], skip_special_tokens=True)\n",
        "\n",
        "    return output_text\n",
        "\n",
        "# Step 4: Test the model with an example UK English sentence\n",
        "input_text = \"She wears jewellery ðŸ’Ž on occasions.\"\n",
        "output_text = convert_using_fine_tuned_model(input_text)\n",
        "\n",
        "print(f\"Input: {input_text}\")\n",
        "print(f\"Output: {output_text}\")\n"
      ],
      "metadata": {
        "colab": {
          "base_uri": "https://localhost:8080/",
          "height": 0
        },
        "id": "RApMKyPQyGR-",
        "outputId": "f0ef89c1-8fb5-456c-a9a9-673efaf88885"
      },
      "execution_count": 7,
      "outputs": [
        {
          "output_type": "stream",
          "name": "stdout",
          "text": [
            "Input: She wears jewellery ðŸ’Ž on occasions.\n",
            "Output: Sie trägt gelegentlich Schmuck ’.\n"
          ]
        }
      ]
    },
    {
      "cell_type": "markdown",
      "source": [
        "## **Fine-Tuning Limitation & Explanation of output results :-**\n",
        "1. Limited Training Data – The dataset size was small, which restricted the model’s ability to learn all UK-to-US dialect variations.\n",
        "2. Colab GPU Time Constraints – Due to resource limits, training was done for only 10 epochs, leading to incomplete learning.\n",
        "3. Impact on Output – The model occasionally generates incorrect outputs because it hasn’t fully converged."
      ],
      "metadata": {
        "id": "7IWsr1pjuCBt"
      }
    },
    {
      "cell_type": "code",
      "source": [],
      "metadata": {
        "id": "v2oHyOdIyGPW"
      },
      "execution_count": 11,
      "outputs": []
    },
    {
      "cell_type": "markdown",
      "source": [
        "## **Switching to OpenAI Model for Better Results**\n",
        "\n",
        "1. Due to limited training data and Colab GPU constraints, fine-tuning T5 did not fully converge, leading to incorrect outputs.\n",
        "2. To ensure higher accuracy and consistent dialect conversion, I switched to OpenAI’s GPT model, which provides reliable results without extensive fine-tuning."
      ],
      "metadata": {
        "id": "NvlmxmmZuf5i"
      }
    },
    {
      "cell_type": "markdown",
      "source": [
        "# **OpenAI For Dialect Conversion**"
      ],
      "metadata": {
        "id": "Ib-lBsFPRQTX"
      }
    },
    {
      "cell_type": "code",
      "source": [
        "\n",
        "# Set up the OpenAI client with your API key\n",
        "# from userdata import get  # Assuming `userdata.get` fetches the API key securely from your environment or configuration\n",
        "api_key = userdata.get('OPENAI_API_KEY')  # Fetch the OpenAI API key\n",
        "client = openai.OpenAI(api_key=api_key)  # Initialize the OpenAI client\n",
        "\n",
        "# Function to clean UK text (if needed)\n",
        "def clean_text(text):\n",
        "    \"\"\"\n",
        "    Cleans the input text (e.g., removes punctuation, handles basic cleaning).\n",
        "    \"\"\"\n",
        "    text = re.sub(r'[^\\w\\s]', '', text)  # Remove punctuation\n",
        "    text = re.sub(r'[^\\x00-\\x7F]+', '', text)  # Remove emojis\n",
        "    text = re.sub(r'\\s+', ' ', text).strip()  # Normalize spaces\n",
        "    return text\n",
        "\n",
        "# Define the prompt for dialect conversion\n",
        "def create_dialect_conversion_prompt(input_text):\n",
        "    return f\"\"\"\n",
        "    Convert the following UK English text to US English. Remove any emojis, special characters, or punctuation and focus on correcting spelling (e.g., 'colour' → 'color', 'centre' → 'center').\n",
        "\n",
        "    UK English: {input_text}\n",
        "    \"\"\"\n",
        "\n",
        "# Function to call OpenAI API for dialect conversion\n",
        "def convert_to_us_dialect(input_text):\n",
        "    # Clean the text before processing\n",
        "    cleaned_text = clean_text(input_text)\n",
        "\n",
        "    # Create the prompt for dialect conversion\n",
        "    prompt = create_dialect_conversion_prompt(cleaned_text)\n",
        "\n",
        "    # Call OpenAI's API to perform the conversion\n",
        "    try:\n",
        "        completion = client.chat.completions.create(\n",
        "            model=\"gpt-3.5-turbo\",\n",
        "            messages=[{\"role\": \"system\", \"content\": prompt}],\n",
        "            temperature=0.2,\n",
        "        )\n",
        "\n",
        "        # Extract the US English output from the response\n",
        "        us_text = completion.choices[0].message.content\n",
        "        return us_text\n",
        "\n",
        "    except Exception as e:\n",
        "        print(f\"Error during dialect conversion: {str(e)}\")\n",
        "        return None\n"
      ],
      "metadata": {
        "id": "W1LE-cHAN6RD"
      },
      "execution_count": 80,
      "outputs": []
    },
    {
      "cell_type": "code",
      "source": [
        "#  Example usage\n",
        "input_text = \"The labor union is organizing a programme ðŸ—“ï¸.\"\n",
        "us_output = convert_to_us_dialect(input_text)\n",
        "\n",
        "if us_output:\n",
        "    print(f\"Original UK Text: {input_text}\")\n",
        "    print(f\"Converted US Text: {us_output}\")\n"
      ],
      "metadata": {
        "colab": {
          "base_uri": "https://localhost:8080/",
          "height": 0
        },
        "id": "eyI0ZHtJQyWm",
        "outputId": "a3091fbb-8244-4d86-a273-af5a046043ba"
      },
      "execution_count": 83,
      "outputs": [
        {
          "output_type": "stream",
          "name": "stdout",
          "text": [
            "Original UK Text: The labor union is organizing a programme ðŸ—“ï¸.\n",
            "Converted US Text: US English: The labor union is organizing a program\n"
          ]
        }
      ]
    },
    {
      "cell_type": "markdown",
      "source": [
        "## **Reason I go for OpenAI for dialects conversion**\n",
        "\n",
        "1. Pretrained on Large-Scale Data – Handles UK-to-US spelling and grammar variations without extra training.\n",
        "2. No Need for Fine-Tuning – Eliminates the need for extensive training, saving time and resources.\n",
        "3. Consistent and Accurate Outputs – Generates reliable conversions even with limited input data.\n",
        "4. Optimized for NLP Tasks – Excels in text transformation, ensuring proper context and sentence structure."
      ],
      "metadata": {
        "id": "8T5fVG4_utEI"
      }
    },
    {
      "cell_type": "code",
      "source": [],
      "metadata": {
        "id": "D149xJ5sQ_P6"
      },
      "execution_count": null,
      "outputs": []
    }
  ]
}